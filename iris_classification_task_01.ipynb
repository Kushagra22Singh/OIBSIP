{
 "cells": [
  {
   "cell_type": "code",
   "execution_count": 1,
   "id": "4a0feab3",
   "metadata": {},
   "outputs": [],
   "source": [
    "import matplotlib.pyplot as plt\n",
    "import pandas as pd\n",
    "import numpy as np"
   ]
  },
  {
   "cell_type": "code",
   "execution_count": 2,
   "id": "ea3fc26f",
   "metadata": {},
   "outputs": [],
   "source": [
    "df=pd.read_csv('Iris.csv')"
   ]
  },
  {
   "cell_type": "code",
   "execution_count": 3,
   "id": "3c0d923b",
   "metadata": {},
   "outputs": [
    {
     "data": {
      "text/html": [
       "<div>\n",
       "<style scoped>\n",
       "    .dataframe tbody tr th:only-of-type {\n",
       "        vertical-align: middle;\n",
       "    }\n",
       "\n",
       "    .dataframe tbody tr th {\n",
       "        vertical-align: top;\n",
       "    }\n",
       "\n",
       "    .dataframe thead th {\n",
       "        text-align: right;\n",
       "    }\n",
       "</style>\n",
       "<table border=\"1\" class=\"dataframe\">\n",
       "  <thead>\n",
       "    <tr style=\"text-align: right;\">\n",
       "      <th></th>\n",
       "      <th>Id</th>\n",
       "      <th>SepalLengthCm</th>\n",
       "      <th>SepalWidthCm</th>\n",
       "      <th>PetalLengthCm</th>\n",
       "      <th>PetalWidthCm</th>\n",
       "      <th>Species</th>\n",
       "    </tr>\n",
       "  </thead>\n",
       "  <tbody>\n",
       "    <tr>\n",
       "      <th>0</th>\n",
       "      <td>1</td>\n",
       "      <td>5.1</td>\n",
       "      <td>3.5</td>\n",
       "      <td>1.4</td>\n",
       "      <td>0.2</td>\n",
       "      <td>Iris-setosa</td>\n",
       "    </tr>\n",
       "    <tr>\n",
       "      <th>1</th>\n",
       "      <td>2</td>\n",
       "      <td>4.9</td>\n",
       "      <td>3.0</td>\n",
       "      <td>1.4</td>\n",
       "      <td>0.2</td>\n",
       "      <td>Iris-setosa</td>\n",
       "    </tr>\n",
       "    <tr>\n",
       "      <th>2</th>\n",
       "      <td>3</td>\n",
       "      <td>4.7</td>\n",
       "      <td>3.2</td>\n",
       "      <td>1.3</td>\n",
       "      <td>0.2</td>\n",
       "      <td>Iris-setosa</td>\n",
       "    </tr>\n",
       "    <tr>\n",
       "      <th>3</th>\n",
       "      <td>4</td>\n",
       "      <td>4.6</td>\n",
       "      <td>3.1</td>\n",
       "      <td>1.5</td>\n",
       "      <td>0.2</td>\n",
       "      <td>Iris-setosa</td>\n",
       "    </tr>\n",
       "    <tr>\n",
       "      <th>4</th>\n",
       "      <td>5</td>\n",
       "      <td>5.0</td>\n",
       "      <td>3.6</td>\n",
       "      <td>1.4</td>\n",
       "      <td>0.2</td>\n",
       "      <td>Iris-setosa</td>\n",
       "    </tr>\n",
       "  </tbody>\n",
       "</table>\n",
       "</div>"
      ],
      "text/plain": [
       "   Id  SepalLengthCm  SepalWidthCm  PetalLengthCm  PetalWidthCm      Species\n",
       "0   1            5.1           3.5            1.4           0.2  Iris-setosa\n",
       "1   2            4.9           3.0            1.4           0.2  Iris-setosa\n",
       "2   3            4.7           3.2            1.3           0.2  Iris-setosa\n",
       "3   4            4.6           3.1            1.5           0.2  Iris-setosa\n",
       "4   5            5.0           3.6            1.4           0.2  Iris-setosa"
      ]
     },
     "execution_count": 3,
     "metadata": {},
     "output_type": "execute_result"
    }
   ],
   "source": [
    "df.head()"
   ]
  },
  {
   "cell_type": "code",
   "execution_count": 4,
   "id": "4e203607",
   "metadata": {},
   "outputs": [],
   "source": [
    "import seaborn as sns"
   ]
  },
  {
   "cell_type": "code",
   "execution_count": 5,
   "id": "be6c7fed",
   "metadata": {},
   "outputs": [
    {
     "data": {
      "text/plain": [
       "Id               0\n",
       "SepalLengthCm    0\n",
       "SepalWidthCm     0\n",
       "PetalLengthCm    0\n",
       "PetalWidthCm     0\n",
       "Species          0\n",
       "dtype: int64"
      ]
     },
     "execution_count": 5,
     "metadata": {},
     "output_type": "execute_result"
    }
   ],
   "source": [
    "df.isnull().sum()"
   ]
  },
  {
   "cell_type": "code",
   "execution_count": 6,
   "id": "d609308c",
   "metadata": {},
   "outputs": [
    {
     "name": "stdout",
     "output_type": "stream",
     "text": [
      "<class 'pandas.core.frame.DataFrame'>\n",
      "RangeIndex: 150 entries, 0 to 149\n",
      "Data columns (total 6 columns):\n",
      " #   Column         Non-Null Count  Dtype  \n",
      "---  ------         --------------  -----  \n",
      " 0   Id             150 non-null    int64  \n",
      " 1   SepalLengthCm  150 non-null    float64\n",
      " 2   SepalWidthCm   150 non-null    float64\n",
      " 3   PetalLengthCm  150 non-null    float64\n",
      " 4   PetalWidthCm   150 non-null    float64\n",
      " 5   Species        150 non-null    object \n",
      "dtypes: float64(4), int64(1), object(1)\n",
      "memory usage: 7.2+ KB\n"
     ]
    }
   ],
   "source": [
    "df.info()"
   ]
  },
  {
   "cell_type": "code",
   "execution_count": 7,
   "id": "2e9dd012",
   "metadata": {},
   "outputs": [
    {
     "data": {
      "text/html": [
       "<div>\n",
       "<style scoped>\n",
       "    .dataframe tbody tr th:only-of-type {\n",
       "        vertical-align: middle;\n",
       "    }\n",
       "\n",
       "    .dataframe tbody tr th {\n",
       "        vertical-align: top;\n",
       "    }\n",
       "\n",
       "    .dataframe thead th {\n",
       "        text-align: right;\n",
       "    }\n",
       "</style>\n",
       "<table border=\"1\" class=\"dataframe\">\n",
       "  <thead>\n",
       "    <tr style=\"text-align: right;\">\n",
       "      <th></th>\n",
       "      <th>Id</th>\n",
       "      <th>SepalLengthCm</th>\n",
       "      <th>SepalWidthCm</th>\n",
       "      <th>PetalLengthCm</th>\n",
       "      <th>PetalWidthCm</th>\n",
       "    </tr>\n",
       "  </thead>\n",
       "  <tbody>\n",
       "    <tr>\n",
       "      <th>count</th>\n",
       "      <td>150.000000</td>\n",
       "      <td>150.000000</td>\n",
       "      <td>150.000000</td>\n",
       "      <td>150.000000</td>\n",
       "      <td>150.000000</td>\n",
       "    </tr>\n",
       "    <tr>\n",
       "      <th>mean</th>\n",
       "      <td>75.500000</td>\n",
       "      <td>5.843333</td>\n",
       "      <td>3.054000</td>\n",
       "      <td>3.758667</td>\n",
       "      <td>1.198667</td>\n",
       "    </tr>\n",
       "    <tr>\n",
       "      <th>std</th>\n",
       "      <td>43.445368</td>\n",
       "      <td>0.828066</td>\n",
       "      <td>0.433594</td>\n",
       "      <td>1.764420</td>\n",
       "      <td>0.763161</td>\n",
       "    </tr>\n",
       "    <tr>\n",
       "      <th>min</th>\n",
       "      <td>1.000000</td>\n",
       "      <td>4.300000</td>\n",
       "      <td>2.000000</td>\n",
       "      <td>1.000000</td>\n",
       "      <td>0.100000</td>\n",
       "    </tr>\n",
       "    <tr>\n",
       "      <th>25%</th>\n",
       "      <td>38.250000</td>\n",
       "      <td>5.100000</td>\n",
       "      <td>2.800000</td>\n",
       "      <td>1.600000</td>\n",
       "      <td>0.300000</td>\n",
       "    </tr>\n",
       "    <tr>\n",
       "      <th>50%</th>\n",
       "      <td>75.500000</td>\n",
       "      <td>5.800000</td>\n",
       "      <td>3.000000</td>\n",
       "      <td>4.350000</td>\n",
       "      <td>1.300000</td>\n",
       "    </tr>\n",
       "    <tr>\n",
       "      <th>75%</th>\n",
       "      <td>112.750000</td>\n",
       "      <td>6.400000</td>\n",
       "      <td>3.300000</td>\n",
       "      <td>5.100000</td>\n",
       "      <td>1.800000</td>\n",
       "    </tr>\n",
       "    <tr>\n",
       "      <th>max</th>\n",
       "      <td>150.000000</td>\n",
       "      <td>7.900000</td>\n",
       "      <td>4.400000</td>\n",
       "      <td>6.900000</td>\n",
       "      <td>2.500000</td>\n",
       "    </tr>\n",
       "  </tbody>\n",
       "</table>\n",
       "</div>"
      ],
      "text/plain": [
       "               Id  SepalLengthCm  SepalWidthCm  PetalLengthCm  PetalWidthCm\n",
       "count  150.000000     150.000000    150.000000     150.000000    150.000000\n",
       "mean    75.500000       5.843333      3.054000       3.758667      1.198667\n",
       "std     43.445368       0.828066      0.433594       1.764420      0.763161\n",
       "min      1.000000       4.300000      2.000000       1.000000      0.100000\n",
       "25%     38.250000       5.100000      2.800000       1.600000      0.300000\n",
       "50%     75.500000       5.800000      3.000000       4.350000      1.300000\n",
       "75%    112.750000       6.400000      3.300000       5.100000      1.800000\n",
       "max    150.000000       7.900000      4.400000       6.900000      2.500000"
      ]
     },
     "execution_count": 7,
     "metadata": {},
     "output_type": "execute_result"
    }
   ],
   "source": [
    "df.describe()"
   ]
  },
  {
   "cell_type": "markdown",
   "id": "ef5b3e0c",
   "metadata": {},
   "source": [
    "checking outliners"
   ]
  },
  {
   "cell_type": "code",
   "execution_count": 8,
   "id": "951464a4",
   "metadata": {},
   "outputs": [
    {
     "data": {
      "text/plain": [
       "<AxesSubplot: xlabel='SepalLengthCm'>"
      ]
     },
     "execution_count": 8,
     "metadata": {},
     "output_type": "execute_result"
    },
    {
     "data": {
      "image/png": "[encoded data removed]",
      "text/plain": [
       "<Figure size 640x480 with 1 Axes>"
      ]
     },
     "metadata": {},
     "output_type": "display_data"
    }
   ],
   "source": [
    "sns.boxplot(x=df['SepalLengthCm'])"
   ]
  },
  {
   "cell_type": "code",
   "execution_count": 9,
   "id": "7645764a",
   "metadata": {},
   "outputs": [
    {
     "data": {
      "text/plain": [
       "<AxesSubplot: xlabel='SepalWidthCm'>"
      ]
     },
     "execution_count": 9,
     "metadata": {},
     "output_type": "execute_result"
    },
    {
     "data": {
      "image/png": "[encoded data removed]",
      "text/plain": [
       "<Figure size 640x480 with 1 Axes>"
      ]
     },
     "metadata": {},
     "output_type": "display_data"
    }
   ],
   "source": [
    "sns.boxplot(x=df['SepalWidthCm'])"
   ]
  },
  {
   "cell_type": "code",
   "execution_count": 10,
   "id": "24a3dcc6",
   "metadata": {},
   "outputs": [
    {
     "data": {
      "text/plain": [
       "<AxesSubplot: xlabel='PetalLengthCm'>"
      ]
     },
     "execution_count": 10,
     "metadata": {},
     "output_type": "execute_result"
    },
    {
     "data": {
      "image/png": "[encoded data removed]",
      "text/plain": [
       "<Figure size 640x480 with 1 Axes>"
      ]
     },
     "metadata": {},
     "output_type": "display_data"
    }
   ],
   "source": [
    "sns.boxplot(x=df['PetalLengthCm'])"
   ]
  },
  {
   "cell_type": "code",
   "execution_count": 11,
   "id": "9d65ba14",
   "metadata": {},
   "outputs": [
    {
     "data": {
      "text/plain": [
       "<AxesSubplot: xlabel='PetalWidthCm'>"
      ]
     },
     "execution_count": 11,
     "metadata": {},
     "output_type": "execute_result"
    },
    {
     "data": {
      "image/png": "[encoded data removed]",
      "text/plain": [
       "<Figure size 640x480 with 1 Axes>"
      ]
     },
     "metadata": {},
     "output_type": "display_data"
    }
   ],
   "source": [
    "sns.boxplot(x=df['PetalWidthCm'])"
   ]
  },
  {
   "cell_type": "markdown",
   "id": "7fd23176",
   "metadata": {},
   "source": [
    "applying scaling to the outliner detected field and performing feature scaling"
   ]
  },
  {
   "cell_type": "code",
   "execution_count": 12,
   "id": "19d6f827",
   "metadata": {},
   "outputs": [],
   "source": [
    "from sklearn import preprocessing"
   ]
  },
  {
   "cell_type": "code",
   "execution_count": 13,
   "id": "eb94ac6f",
   "metadata": {},
   "outputs": [
    {
     "data": {
      "image/png": "[encoded data removed]",
      "text/plain": [
       "<Figure size 640x480 with 1 Axes>"
      ]
     },
     "metadata": {},
     "output_type": "display_data"
    },
    {
     "data": {
      "image/png": "[encoded data removed]",
      "text/plain": [
       "<Figure size 640x480 with 1 Axes>"
      ]
     },
     "metadata": {},
     "output_type": "display_data"
    }
   ],
   "source": [
    "plt.hist(df['SepalWidthCm'])\n",
    "plt.title('Histogram before transformation')\n",
    "plt.show()\n",
    "\n",
    "\n",
    "scaler=preprocessing.StandardScaler()\n",
    "df['SepalWidthCm']=scaler.fit_transform(df['SepalWidthCm'].values.reshape(-1,1))\n",
    "plt.hist(df['SepalWidthCm'])\n",
    "plt.title('Histogram after transformation')\n",
    "plt.show()\n"
   ]
  },
  {
   "cell_type": "code",
   "execution_count": 14,
   "id": "d4fa6745",
   "metadata": {},
   "outputs": [
    {
     "data": {
      "text/plain": [
       "<AxesSubplot: xlabel='SepalWidthCm'>"
      ]
     },
     "execution_count": 14,
     "metadata": {},
     "output_type": "execute_result"
    },
    {
     "data": {
      "image/png": "[encoded data removed]",
      "text/plain": [
       "<Figure size 640x480 with 1 Axes>"
      ]
     },
     "metadata": {},
     "output_type": "display_data"
    }
   ],
   "source": [
    "sns.boxplot(x=df['SepalWidthCm'])"
   ]
  },
  {
   "cell_type": "code",
   "execution_count": 15,
   "id": "096b18f7",
   "metadata": {},
   "outputs": [
    {
     "data": {
      "text/html": [
       "<div>\n",
       "<style scoped>\n",
       "    .dataframe tbody tr th:only-of-type {\n",
       "        vertical-align: middle;\n",
       "    }\n",
       "\n",
       "    .dataframe tbody tr th {\n",
       "        vertical-align: top;\n",
       "    }\n",
       "\n",
       "    .dataframe thead th {\n",
       "        text-align: right;\n",
       "    }\n",
       "</style>\n",
       "<table border=\"1\" class=\"dataframe\">\n",
       "  <thead>\n",
       "    <tr style=\"text-align: right;\">\n",
       "      <th></th>\n",
       "      <th>Id</th>\n",
       "      <th>SepalLengthCm</th>\n",
       "      <th>SepalWidthCm</th>\n",
       "      <th>PetalLengthCm</th>\n",
       "      <th>PetalWidthCm</th>\n",
       "      <th>Species</th>\n",
       "    </tr>\n",
       "  </thead>\n",
       "  <tbody>\n",
       "    <tr>\n",
       "      <th>0</th>\n",
       "      <td>1</td>\n",
       "      <td>5.1</td>\n",
       "      <td>1.032057</td>\n",
       "      <td>1.4</td>\n",
       "      <td>0.2</td>\n",
       "      <td>Iris-setosa</td>\n",
       "    </tr>\n",
       "    <tr>\n",
       "      <th>1</th>\n",
       "      <td>2</td>\n",
       "      <td>4.9</td>\n",
       "      <td>-0.124958</td>\n",
       "      <td>1.4</td>\n",
       "      <td>0.2</td>\n",
       "      <td>Iris-setosa</td>\n",
       "    </tr>\n",
       "    <tr>\n",
       "      <th>2</th>\n",
       "      <td>3</td>\n",
       "      <td>4.7</td>\n",
       "      <td>0.337848</td>\n",
       "      <td>1.3</td>\n",
       "      <td>0.2</td>\n",
       "      <td>Iris-setosa</td>\n",
       "    </tr>\n",
       "    <tr>\n",
       "      <th>3</th>\n",
       "      <td>4</td>\n",
       "      <td>4.6</td>\n",
       "      <td>0.106445</td>\n",
       "      <td>1.5</td>\n",
       "      <td>0.2</td>\n",
       "      <td>Iris-setosa</td>\n",
       "    </tr>\n",
       "    <tr>\n",
       "      <th>4</th>\n",
       "      <td>5</td>\n",
       "      <td>5.0</td>\n",
       "      <td>1.263460</td>\n",
       "      <td>1.4</td>\n",
       "      <td>0.2</td>\n",
       "      <td>Iris-setosa</td>\n",
       "    </tr>\n",
       "  </tbody>\n",
       "</table>\n",
       "</div>"
      ],
      "text/plain": [
       "   Id  SepalLengthCm  SepalWidthCm  PetalLengthCm  PetalWidthCm      Species\n",
       "0   1            5.1      1.032057            1.4           0.2  Iris-setosa\n",
       "1   2            4.9     -0.124958            1.4           0.2  Iris-setosa\n",
       "2   3            4.7      0.337848            1.3           0.2  Iris-setosa\n",
       "3   4            4.6      0.106445            1.5           0.2  Iris-setosa\n",
       "4   5            5.0      1.263460            1.4           0.2  Iris-setosa"
      ]
     },
     "execution_count": 15,
     "metadata": {},
     "output_type": "execute_result"
    }
   ],
   "source": [
    "df.head()"
   ]
  },
  {
   "cell_type": "code",
   "execution_count": 16,
   "id": "6e6a4580",
   "metadata": {},
   "outputs": [
    {
     "data": {
      "image/png": "[encoded data removed]",
      "text/plain": [
       "<Figure size 640x480 with 1 Axes>"
      ]
     },
     "metadata": {},
     "output_type": "display_data"
    },
    {
     "data": {
      "image/png": "[encoded data removed]",
      "text/plain": [
       "<Figure size 640x480 with 1 Axes>"
      ]
     },
     "metadata": {},
     "output_type": "display_data"
    }
   ],
   "source": [
    "plt.hist(df['SepalLengthCm'])\n",
    "plt.title('Histogram before transformation')\n",
    "plt.show()\n",
    "\n",
    "\n",
    "scaler=preprocessing.StandardScaler()\n",
    "df['SepalLengthCm']=scaler.fit_transform(df['SepalLengthCm'].values.reshape(-1,1))\n",
    "plt.hist(df['SepalLengthCm'])\n",
    "plt.title('Histogram after transformation')\n",
    "plt.show()\n"
   ]
  },
  {
   "cell_type": "code",
   "execution_count": 17,
   "id": "746cbc68",
   "metadata": {},
   "outputs": [
    {
     "data": {
      "text/plain": [
       "<AxesSubplot: xlabel='SepalLengthCm'>"
      ]
     },
     "execution_count": 17,
     "metadata": {},
     "output_type": "execute_result"
    },
    {
     "data": {
      "image/png": "[encoded data removed]",
      "text/plain": [
       "<Figure size 640x480 with 1 Axes>"
      ]
     },
     "metadata": {},
     "output_type": "display_data"
    }
   ],
   "source": [
    "sns.boxplot(x=df['SepalLengthCm'])"
   ]
  },
  {
   "cell_type": "markdown",
   "id": "006ff3a0",
   "metadata": {},
   "source": [
    "Applying label encoding"
   ]
  },
  {
   "cell_type": "code",
   "execution_count": 18,
   "id": "2032e2c3",
   "metadata": {},
   "outputs": [],
   "source": [
    "from sklearn.preprocessing import LabelEncoder"
   ]
  },
  {
   "cell_type": "code",
   "execution_count": 19,
   "id": "906ac1fe",
   "metadata": {},
   "outputs": [],
   "source": [
    "le=LabelEncoder()\n",
    "df['Species']=le.fit_transform(df['Species'])"
   ]
  },
  {
   "cell_type": "code",
   "execution_count": 20,
   "id": "5d110b26",
   "metadata": {},
   "outputs": [
    {
     "data": {
      "text/html": [
       "<div>\n",
       "<style scoped>\n",
       "    .dataframe tbody tr th:only-of-type {\n",
       "        vertical-align: middle;\n",
       "    }\n",
       "\n",
       "    .dataframe tbody tr th {\n",
       "        vertical-align: top;\n",
       "    }\n",
       "\n",
       "    .dataframe thead th {\n",
       "        text-align: right;\n",
       "    }\n",
       "</style>\n",
       "<table border=\"1\" class=\"dataframe\">\n",
       "  <thead>\n",
       "    <tr style=\"text-align: right;\">\n",
       "      <th></th>\n",
       "      <th>Id</th>\n",
       "      <th>SepalLengthCm</th>\n",
       "      <th>SepalWidthCm</th>\n",
       "      <th>PetalLengthCm</th>\n",
       "      <th>PetalWidthCm</th>\n",
       "      <th>Species</th>\n",
       "    </tr>\n",
       "  </thead>\n",
       "  <tbody>\n",
       "    <tr>\n",
       "      <th>0</th>\n",
       "      <td>1</td>\n",
       "      <td>-0.900681</td>\n",
       "      <td>1.032057</td>\n",
       "      <td>1.4</td>\n",
       "      <td>0.2</td>\n",
       "      <td>0</td>\n",
       "    </tr>\n",
       "    <tr>\n",
       "      <th>1</th>\n",
       "      <td>2</td>\n",
       "      <td>-1.143017</td>\n",
       "      <td>-0.124958</td>\n",
       "      <td>1.4</td>\n",
       "      <td>0.2</td>\n",
       "      <td>0</td>\n",
       "    </tr>\n",
       "    <tr>\n",
       "      <th>2</th>\n",
       "      <td>3</td>\n",
       "      <td>-1.385353</td>\n",
       "      <td>0.337848</td>\n",
       "      <td>1.3</td>\n",
       "      <td>0.2</td>\n",
       "      <td>0</td>\n",
       "    </tr>\n",
       "    <tr>\n",
       "      <th>3</th>\n",
       "      <td>4</td>\n",
       "      <td>-1.506521</td>\n",
       "      <td>0.106445</td>\n",
       "      <td>1.5</td>\n",
       "      <td>0.2</td>\n",
       "      <td>0</td>\n",
       "    </tr>\n",
       "    <tr>\n",
       "      <th>4</th>\n",
       "      <td>5</td>\n",
       "      <td>-1.021849</td>\n",
       "      <td>1.263460</td>\n",
       "      <td>1.4</td>\n",
       "      <td>0.2</td>\n",
       "      <td>0</td>\n",
       "    </tr>\n",
       "  </tbody>\n",
       "</table>\n",
       "</div>"
      ],
      "text/plain": [
       "   Id  SepalLengthCm  SepalWidthCm  PetalLengthCm  PetalWidthCm  Species\n",
       "0   1      -0.900681      1.032057            1.4           0.2        0\n",
       "1   2      -1.143017     -0.124958            1.4           0.2        0\n",
       "2   3      -1.385353      0.337848            1.3           0.2        0\n",
       "3   4      -1.506521      0.106445            1.5           0.2        0\n",
       "4   5      -1.021849      1.263460            1.4           0.2        0"
      ]
     },
     "execution_count": 20,
     "metadata": {},
     "output_type": "execute_result"
    }
   ],
   "source": [
    "df.head()"
   ]
  },
  {
   "cell_type": "code",
   "execution_count": 21,
   "id": "9b79ffe3",
   "metadata": {},
   "outputs": [
    {
     "data": {
      "text/plain": [
       "Index(['Id', 'SepalLengthCm', 'SepalWidthCm', 'PetalLengthCm', 'PetalWidthCm',\n",
       "       'Species'],\n",
       "      dtype='object')"
      ]
     },
     "execution_count": 21,
     "metadata": {},
     "output_type": "execute_result"
    }
   ],
   "source": [
    "df.columns"
   ]
  },
  {
   "cell_type": "markdown",
   "id": "15369be6",
   "metadata": {},
   "source": [
    "train and test data"
   ]
  },
  {
   "cell_type": "code",
   "execution_count": 22,
   "id": "c34c5186",
   "metadata": {},
   "outputs": [],
   "source": [
    "X=df.drop('Species' , axis='columns')"
   ]
  },
  {
   "cell_type": "code",
   "execution_count": 23,
   "id": "2917dff4",
   "metadata": {},
   "outputs": [],
   "source": [
    "y=df.Species"
   ]
  },
  {
   "cell_type": "code",
   "execution_count": 24,
   "id": "1e7d660f",
   "metadata": {},
   "outputs": [],
   "source": [
    "from sklearn.model_selection import train_test_split\n",
    "X_train, X_test, y_train, y_test = train_test_split(X, y, test_size=0.2)"
   ]
  },
  {
   "cell_type": "markdown",
   "id": "50c62bc0",
   "metadata": {},
   "source": [
    "making the neural network"
   ]
  },
  {
   "cell_type": "code",
   "execution_count": 25,
   "id": "ea712d11",
   "metadata": {},
   "outputs": [],
   "source": [
    "import tensorflow as tf"
   ]
  },
  {
   "cell_type": "code",
   "execution_count": 26,
   "id": "0739c5d0",
   "metadata": {
    "scrolled": true
   },
   "outputs": [
    {
     "name": "stdout",
     "output_type": "stream",
     "text": [
      "Model: \"sequential\"\n",
      "_________________________________________________________________\n",
      " Layer (type)                Output Shape              Param #   \n",
      "=================================================================\n",
      " dense (Dense)               (None, 128)               768       \n",
      "                                                                 \n",
      " dropout (Dropout)           (None, 128)               0         \n",
      "                                                                 \n",
      " dense_1 (Dense)             (None, 64)                8256      \n",
      "                                                                 \n",
      " dropout_1 (Dropout)         (None, 64)                0         \n",
      "                                                                 \n",
      " dense_2 (Dense)             (None, 3)                 195       \n",
      "                                                                 \n",
      "=================================================================\n",
      "Total params: 9219 (36.01 KB)\n",
      "Trainable params: 9219 (36.01 KB)\n",
      "Non-trainable params: 0 (0.00 Byte)\n",
      "_________________________________________________________________\n",
      "Epoch 1/100\n",
      "2/2 [==============================] - 2s 350ms/step - loss: 12.5241 - accuracy: 0.3250 - val_loss: 3.4772 - val_accuracy: 0.4000\n",
      "Epoch 2/100\n",
      "2/2 [==============================] - 0s 50ms/step - loss: 11.4814 - accuracy: 0.3333 - val_loss: 1.8836 - val_accuracy: 0.4000\n",
      "Epoch 3/100\n",
      "2/2 [==============================] - 0s 58ms/step - loss: 10.8248 - accuracy: 0.3167 - val_loss: 1.9973 - val_accuracy: 0.2667\n",
      "Epoch 4/100\n",
      "2/2 [==============================] - 0s 57ms/step - loss: 10.0650 - accuracy: 0.3000 - val_loss: 3.1049 - val_accuracy: 0.2667\n",
      "Epoch 5/100\n",
      "2/2 [==============================] - 0s 58ms/step - loss: 10.9364 - accuracy: 0.3667 - val_loss: 3.7925 - val_accuracy: 0.2667\n",
      "Epoch 6/100\n",
      "2/2 [==============================] - 0s 60ms/step - loss: 8.3806 - accuracy: 0.3750 - val_loss: 4.1927 - val_accuracy: 0.2667\n",
      "Epoch 7/100\n",
      "2/2 [==============================] - 0s 59ms/step - loss: 9.4793 - accuracy: 0.2833 - val_loss: 4.3316 - val_accuracy: 0.2667\n",
      "Epoch 8/100\n",
      "2/2 [==============================] - 0s 52ms/step - loss: 8.2180 - accuracy: 0.3583 - val_loss: 4.2566 - val_accuracy: 0.2667\n",
      "Epoch 9/100\n",
      "2/2 [==============================] - 0s 63ms/step - loss: 8.5968 - accuracy: 0.3750 - val_loss: 3.8543 - val_accuracy: 0.2667\n",
      "Epoch 10/100\n",
      "2/2 [==============================] - 0s 52ms/step - loss: 7.1803 - accuracy: 0.3583 - val_loss: 3.2903 - val_accuracy: 0.2667\n",
      "Epoch 11/100\n",
      "2/2 [==============================] - 0s 51ms/step - loss: 8.9142 - accuracy: 0.3333 - val_loss: 2.7131 - val_accuracy: 0.2667\n",
      "Epoch 12/100\n",
      "2/2 [==============================] - 0s 57ms/step - loss: 10.2335 - accuracy: 0.2750 - val_loss: 2.1858 - val_accuracy: 0.2667\n",
      "Epoch 13/100\n",
      "2/2 [==============================] - 0s 53ms/step - loss: 6.7126 - accuracy: 0.3667 - val_loss: 1.8143 - val_accuracy: 0.2667\n",
      "Epoch 14/100\n",
      "2/2 [==============================] - 0s 56ms/step - loss: 8.2666 - accuracy: 0.2667 - val_loss: 1.6249 - val_accuracy: 0.2667\n",
      "Epoch 15/100\n",
      "2/2 [==============================] - 0s 56ms/step - loss: 8.2483 - accuracy: 0.3417 - val_loss: 1.5093 - val_accuracy: 0.2667\n",
      "Epoch 16/100\n",
      "2/2 [==============================] - 0s 63ms/step - loss: 7.3682 - accuracy: 0.3833 - val_loss: 1.4406 - val_accuracy: 0.2667\n",
      "Epoch 17/100\n",
      "2/2 [==============================] - 0s 57ms/step - loss: 6.5259 - accuracy: 0.3417 - val_loss: 1.3846 - val_accuracy: 0.3667\n",
      "Epoch 18/100\n",
      "2/2 [==============================] - 0s 60ms/step - loss: 6.7243 - accuracy: 0.3917 - val_loss: 1.3230 - val_accuracy: 0.4667\n",
      "Epoch 19/100\n",
      "2/2 [==============================] - 0s 71ms/step - loss: 7.5446 - accuracy: 0.2917 - val_loss: 1.2670 - val_accuracy: 0.4333\n",
      "Epoch 20/100\n",
      "2/2 [==============================] - 0s 70ms/step - loss: 6.4554 - accuracy: 0.3667 - val_loss: 1.2084 - val_accuracy: 0.4000\n",
      "Epoch 21/100\n",
      "2/2 [==============================] - 0s 58ms/step - loss: 6.2089 - accuracy: 0.3917 - val_loss: 1.1592 - val_accuracy: 0.3667\n",
      "Epoch 22/100\n",
      "2/2 [==============================] - 0s 57ms/step - loss: 7.2324 - accuracy: 0.3167 - val_loss: 1.1169 - val_accuracy: 0.3667\n",
      "Epoch 23/100\n",
      "2/2 [==============================] - 0s 57ms/step - loss: 4.8430 - accuracy: 0.4167 - val_loss: 1.0800 - val_accuracy: 0.4000\n",
      "Epoch 24/100\n",
      "2/2 [==============================] - 0s 54ms/step - loss: 4.0635 - accuracy: 0.4417 - val_loss: 1.0550 - val_accuracy: 0.5333\n",
      "Epoch 25/100\n",
      "2/2 [==============================] - 0s 54ms/step - loss: 6.0537 - accuracy: 0.3167 - val_loss: 1.0338 - val_accuracy: 0.4667\n",
      "Epoch 26/100\n",
      "2/2 [==============================] - 0s 56ms/step - loss: 5.7480 - accuracy: 0.3750 - val_loss: 1.0073 - val_accuracy: 0.5333\n",
      "Epoch 27/100\n",
      "2/2 [==============================] - 0s 55ms/step - loss: 3.9858 - accuracy: 0.4833 - val_loss: 0.9878 - val_accuracy: 0.4333\n",
      "Epoch 28/100\n",
      "2/2 [==============================] - 0s 48ms/step - loss: 4.5892 - accuracy: 0.3750 - val_loss: 0.9772 - val_accuracy: 0.4333\n",
      "Epoch 29/100\n",
      "2/2 [==============================] - 0s 54ms/step - loss: 5.5226 - accuracy: 0.3583 - val_loss: 0.9771 - val_accuracy: 0.4333\n",
      "Epoch 30/100\n",
      "2/2 [==============================] - 0s 47ms/step - loss: 4.3575 - accuracy: 0.4583 - val_loss: 0.9614 - val_accuracy: 0.4333\n",
      "Epoch 31/100\n",
      "2/2 [==============================] - 0s 59ms/step - loss: 5.7828 - accuracy: 0.3583 - val_loss: 0.9485 - val_accuracy: 0.4333\n",
      "Epoch 32/100\n",
      "2/2 [==============================] - 0s 49ms/step - loss: 4.4388 - accuracy: 0.3583 - val_loss: 0.9358 - val_accuracy: 0.4333\n",
      "Epoch 33/100\n",
      "2/2 [==============================] - 0s 48ms/step - loss: 4.5327 - accuracy: 0.3917 - val_loss: 0.9257 - val_accuracy: 0.5000\n",
      "Epoch 34/100\n",
      "2/2 [==============================] - 0s 53ms/step - loss: 4.4120 - accuracy: 0.4083 - val_loss: 0.9170 - val_accuracy: 0.5000\n",
      "Epoch 35/100\n",
      "2/2 [==============================] - 0s 58ms/step - loss: 4.1320 - accuracy: 0.3917 - val_loss: 0.9167 - val_accuracy: 0.5000\n",
      "Epoch 36/100\n",
      "2/2 [==============================] - 0s 49ms/step - loss: 4.8806 - accuracy: 0.3583 - val_loss: 0.9188 - val_accuracy: 0.5000\n",
      "Epoch 37/100\n",
      "2/2 [==============================] - 0s 49ms/step - loss: 4.3587 - accuracy: 0.4167 - val_loss: 0.9196 - val_accuracy: 0.5333\n",
      "Epoch 38/100\n",
      "2/2 [==============================] - 0s 46ms/step - loss: 4.1898 - accuracy: 0.4500 - val_loss: 0.9206 - val_accuracy: 0.6000\n",
      "Epoch 39/100\n",
      "2/2 [==============================] - 0s 45ms/step - loss: 4.4594 - accuracy: 0.3917 - val_loss: 0.9236 - val_accuracy: 0.5667\n",
      "Epoch 40/100\n",
      "2/2 [==============================] - 0s 52ms/step - loss: 3.7380 - accuracy: 0.4000 - val_loss: 0.9231 - val_accuracy: 0.4667\n",
      "Epoch 41/100\n",
      "2/2 [==============================] - 0s 51ms/step - loss: 3.9583 - accuracy: 0.4000 - val_loss: 0.9256 - val_accuracy: 0.4333\n",
      "Epoch 42/100\n",
      "2/2 [==============================] - 0s 47ms/step - loss: 4.5890 - accuracy: 0.3417 - val_loss: 0.9252 - val_accuracy: 0.3667\n",
      "Epoch 43/100\n",
      "2/2 [==============================] - 0s 52ms/step - loss: 3.9670 - accuracy: 0.3167 - val_loss: 0.9274 - val_accuracy: 0.3667\n",
      "Epoch 44/100\n",
      "2/2 [==============================] - 0s 40ms/step - loss: 3.6907 - accuracy: 0.4000 - val_loss: 0.9322 - val_accuracy: 0.3667\n",
      "Epoch 45/100\n",
      "2/2 [==============================] - 0s 49ms/step - loss: 2.7205 - accuracy: 0.4000 - val_loss: 0.9367 - val_accuracy: 0.3667\n",
      "Epoch 46/100\n",
      "2/2 [==============================] - 0s 43ms/step - loss: 3.9992 - accuracy: 0.4167 - val_loss: 0.9392 - val_accuracy: 0.3667\n",
      "Epoch 47/100\n",
      "2/2 [==============================] - 0s 48ms/step - loss: 3.6133 - accuracy: 0.3750 - val_loss: 0.9339 - val_accuracy: 0.3667\n",
      "Epoch 48/100\n",
      "2/2 [==============================] - 0s 54ms/step - loss: 4.2160 - accuracy: 0.3667 - val_loss: 0.9271 - val_accuracy: 0.3667\n",
      "Epoch 49/100\n",
      "2/2 [==============================] - 0s 51ms/step - loss: 2.8235 - accuracy: 0.4917 - val_loss: 0.9234 - val_accuracy: 0.3667\n",
      "Epoch 50/100\n",
      "2/2 [==============================] - 0s 54ms/step - loss: 2.8563 - accuracy: 0.4917 - val_loss: 0.9205 - val_accuracy: 0.3667\n",
      "Epoch 51/100\n"
     ]
    },
    {
     "name": "stdout",
     "output_type": "stream",
     "text": [
      "2/2 [==============================] - 0s 57ms/step - loss: 4.0723 - accuracy: 0.3417 - val_loss: 0.9271 - val_accuracy: 0.3667\n",
      "Epoch 52/100\n",
      "2/2 [==============================] - 0s 52ms/step - loss: 3.0480 - accuracy: 0.4083 - val_loss: 0.9362 - val_accuracy: 0.3667\n",
      "Epoch 53/100\n",
      "2/2 [==============================] - 0s 45ms/step - loss: 3.2271 - accuracy: 0.3917 - val_loss: 0.9481 - val_accuracy: 0.4000\n",
      "Epoch 54/100\n",
      "2/2 [==============================] - 0s 47ms/step - loss: 2.8785 - accuracy: 0.4500 - val_loss: 0.9590 - val_accuracy: 0.4000\n",
      "Epoch 55/100\n",
      "2/2 [==============================] - 0s 40ms/step - loss: 3.5847 - accuracy: 0.4917 - val_loss: 0.9784 - val_accuracy: 0.4000\n",
      "Epoch 56/100\n",
      "2/2 [==============================] - 0s 46ms/step - loss: 3.1267 - accuracy: 0.3833 - val_loss: 0.9867 - val_accuracy: 0.4000\n",
      "Epoch 57/100\n",
      "2/2 [==============================] - 0s 47ms/step - loss: 2.8506 - accuracy: 0.4333 - val_loss: 0.9858 - val_accuracy: 0.4000\n",
      "Epoch 58/100\n",
      "2/2 [==============================] - 0s 49ms/step - loss: 3.1839 - accuracy: 0.3083 - val_loss: 0.9944 - val_accuracy: 0.4333\n",
      "Epoch 59/100\n",
      "2/2 [==============================] - 0s 52ms/step - loss: 2.7592 - accuracy: 0.4583 - val_loss: 1.0031 - val_accuracy: 0.4333\n",
      "Epoch 60/100\n",
      "2/2 [==============================] - 0s 40ms/step - loss: 3.1369 - accuracy: 0.4250 - val_loss: 0.9947 - val_accuracy: 0.4667\n",
      "Epoch 61/100\n",
      "2/2 [==============================] - 0s 50ms/step - loss: 3.5507 - accuracy: 0.4250 - val_loss: 0.9847 - val_accuracy: 0.5000\n",
      "Epoch 62/100\n",
      "2/2 [==============================] - 0s 50ms/step - loss: 2.6151 - accuracy: 0.4750 - val_loss: 0.9715 - val_accuracy: 0.5000\n",
      "Epoch 63/100\n",
      "2/2 [==============================] - 0s 51ms/step - loss: 3.1355 - accuracy: 0.4083 - val_loss: 0.9621 - val_accuracy: 0.5000\n",
      "Epoch 64/100\n",
      "2/2 [==============================] - 0s 49ms/step - loss: 2.8112 - accuracy: 0.4250 - val_loss: 0.9531 - val_accuracy: 0.5333\n",
      "Epoch 65/100\n",
      "2/2 [==============================] - 0s 50ms/step - loss: 3.0455 - accuracy: 0.3333 - val_loss: 0.9538 - val_accuracy: 0.5333\n",
      "Epoch 66/100\n",
      "2/2 [==============================] - 0s 60ms/step - loss: 2.9306 - accuracy: 0.4417 - val_loss: 0.9462 - val_accuracy: 0.5333\n",
      "Epoch 67/100\n",
      "2/2 [==============================] - 0s 48ms/step - loss: 2.4116 - accuracy: 0.4583 - val_loss: 0.9296 - val_accuracy: 0.5333\n",
      "Epoch 68/100\n",
      "2/2 [==============================] - 0s 34ms/step - loss: 2.6302 - accuracy: 0.3917 - val_loss: 0.9175 - val_accuracy: 0.5333\n",
      "Epoch 69/100\n",
      "2/2 [==============================] - 0s 50ms/step - loss: 3.2673 - accuracy: 0.4833 - val_loss: 0.9075 - val_accuracy: 0.5333\n",
      "Epoch 70/100\n",
      "2/2 [==============================] - 0s 53ms/step - loss: 2.4781 - accuracy: 0.4833 - val_loss: 0.9024 - val_accuracy: 0.5333\n",
      "Epoch 71/100\n",
      "2/2 [==============================] - 0s 50ms/step - loss: 2.1355 - accuracy: 0.4583 - val_loss: 0.8996 - val_accuracy: 0.5667\n",
      "Epoch 72/100\n",
      "2/2 [==============================] - 0s 51ms/step - loss: 2.7721 - accuracy: 0.4417 - val_loss: 0.9008 - val_accuracy: 0.5667\n",
      "Epoch 73/100\n",
      "2/2 [==============================] - 0s 66ms/step - loss: 2.6963 - accuracy: 0.4000 - val_loss: 0.9046 - val_accuracy: 0.5667\n",
      "Epoch 74/100\n",
      "2/2 [==============================] - 0s 58ms/step - loss: 2.2518 - accuracy: 0.4917 - val_loss: 0.9087 - val_accuracy: 0.5667\n",
      "Epoch 75/100\n",
      "2/2 [==============================] - 0s 54ms/step - loss: 2.0823 - accuracy: 0.4750 - val_loss: 0.9156 - val_accuracy: 0.5667\n",
      "Epoch 76/100\n",
      "2/2 [==============================] - 0s 53ms/step - loss: 2.3132 - accuracy: 0.5083 - val_loss: 0.9201 - val_accuracy: 0.6000\n",
      "Epoch 77/100\n",
      "2/2 [==============================] - 0s 65ms/step - loss: 1.9050 - accuracy: 0.5583 - val_loss: 0.9269 - val_accuracy: 0.6000\n",
      "Epoch 78/100\n",
      "2/2 [==============================] - 0s 51ms/step - loss: 2.2365 - accuracy: 0.4667 - val_loss: 0.9345 - val_accuracy: 0.6000\n",
      "Epoch 79/100\n",
      "2/2 [==============================] - 0s 53ms/step - loss: 2.2749 - accuracy: 0.4667 - val_loss: 0.9439 - val_accuracy: 0.6000\n",
      "Epoch 80/100\n",
      "2/2 [==============================] - 0s 51ms/step - loss: 2.7960 - accuracy: 0.4083 - val_loss: 0.9458 - val_accuracy: 0.6000\n",
      "Epoch 81/100\n",
      "2/2 [==============================] - 0s 46ms/step - loss: 1.5858 - accuracy: 0.5167 - val_loss: 0.9462 - val_accuracy: 0.6000\n",
      "Epoch 82/100\n",
      "2/2 [==============================] - 0s 50ms/step - loss: 2.1331 - accuracy: 0.5000 - val_loss: 0.9449 - val_accuracy: 0.6000\n",
      "Epoch 83/100\n",
      "2/2 [==============================] - 0s 52ms/step - loss: 1.9843 - accuracy: 0.4667 - val_loss: 0.9445 - val_accuracy: 0.6000\n",
      "Epoch 84/100\n",
      "2/2 [==============================] - 0s 50ms/step - loss: 1.7558 - accuracy: 0.5417 - val_loss: 0.9452 - val_accuracy: 0.6000\n",
      "Epoch 85/100\n",
      "2/2 [==============================] - 0s 66ms/step - loss: 2.0243 - accuracy: 0.4750 - val_loss: 0.9452 - val_accuracy: 0.6000\n",
      "Epoch 86/100\n",
      "2/2 [==============================] - 0s 49ms/step - loss: 1.8645 - accuracy: 0.4750 - val_loss: 0.9396 - val_accuracy: 0.6000\n",
      "Epoch 87/100\n",
      "2/2 [==============================] - 0s 53ms/step - loss: 2.0716 - accuracy: 0.3917 - val_loss: 0.9357 - val_accuracy: 0.6000\n",
      "Epoch 88/100\n",
      "2/2 [==============================] - 0s 52ms/step - loss: 1.8588 - accuracy: 0.5167 - val_loss: 0.9317 - val_accuracy: 0.6000\n",
      "Epoch 89/100\n",
      "2/2 [==============================] - 0s 50ms/step - loss: 1.8332 - accuracy: 0.4417 - val_loss: 0.9306 - val_accuracy: 0.6000\n",
      "Epoch 90/100\n",
      "2/2 [==============================] - 0s 48ms/step - loss: 1.9866 - accuracy: 0.5167 - val_loss: 0.9291 - val_accuracy: 0.6000\n",
      "Epoch 91/100\n",
      "2/2 [==============================] - 0s 50ms/step - loss: 1.9483 - accuracy: 0.4917 - val_loss: 0.9279 - val_accuracy: 0.6000\n",
      "Epoch 92/100\n",
      "2/2 [==============================] - 0s 50ms/step - loss: 1.4448 - accuracy: 0.5333 - val_loss: 0.9273 - val_accuracy: 0.6000\n",
      "Epoch 93/100\n",
      "2/2 [==============================] - 0s 50ms/step - loss: 1.9420 - accuracy: 0.4167 - val_loss: 0.9268 - val_accuracy: 0.6000\n",
      "Epoch 94/100\n",
      "2/2 [==============================] - 0s 48ms/step - loss: 1.8079 - accuracy: 0.4500 - val_loss: 0.9270 - val_accuracy: 0.6000\n",
      "Epoch 95/100\n",
      "2/2 [==============================] - 0s 46ms/step - loss: 2.1006 - accuracy: 0.5000 - val_loss: 0.9250 - val_accuracy: 0.6000\n",
      "Epoch 96/100\n",
      "2/2 [==============================] - 0s 50ms/step - loss: 1.5650 - accuracy: 0.5083 - val_loss: 0.9224 - val_accuracy: 0.6000\n",
      "Epoch 97/100\n",
      "2/2 [==============================] - 0s 55ms/step - loss: 1.6612 - accuracy: 0.5000 - val_loss: 0.9207 - val_accuracy: 0.6000\n",
      "Epoch 98/100\n",
      "2/2 [==============================] - 0s 54ms/step - loss: 2.0753 - accuracy: 0.4583 - val_loss: 0.9184 - val_accuracy: 0.6000\n",
      "Epoch 99/100\n",
      "2/2 [==============================] - 0s 52ms/step - loss: 1.7200 - accuracy: 0.5167 - val_loss: 0.9144 - val_accuracy: 0.6000\n",
      "Epoch 100/100\n",
      "2/2 [==============================] - 0s 49ms/step - loss: 1.6867 - accuracy: 0.4750 - val_loss: 0.9092 - val_accuracy: 0.6000\n",
      "1/1 [==============================] - 0s 43ms/step - loss: 0.9092 - accuracy: 0.6000\n",
      "Test accuracy: 0.6000000238418579\n"
     ]
    }
   ],
   "source": [
    "model = tf.keras.Sequential([\n",
    "    tf.keras.layers.Input(shape=(X_train.shape[1],)),\n",
    "    tf.keras.layers.Dense(128, activation='relu'),\n",
    "    tf.keras.layers.Dropout(0.8),\n",
    "    tf.keras.layers.Dense(64, activation='relu'),\n",
    "    tf.keras.layers.Dropout(0.2),\n",
    "    tf.keras.layers.Dense(3, activation='softmax')\n",
    "])\n",
    "\n",
    "# Compile the model\n",
    "model.compile(optimizer='adam', loss='sparse_categorical_crossentropy', metrics=['accuracy'])\n",
    "\n",
    "# Summary of the model architecture\n",
    "model.summary()\n",
    "\n",
    "# Train the model\n",
    "history = model.fit(X_train, y_train, epochs=100, batch_size=64, validation_data=(X_test, y_test), verbose=1)\n",
    "\n",
    "# Evaluate the model\n",
    "loss, accuracy = model.evaluate(X_test, y_test)\n",
    "print(\"Test accuracy:\", accuracy)\n"
   ]
  },
  {
   "cell_type": "code",
   "execution_count": 29,
   "id": "8a84f98b",
   "metadata": {},
   "outputs": [],
   "source": [
    "from sklearn.linear_model import LogisticRegression\n",
    "model_LR = LogisticRegression()"
   ]
  },
  {
   "cell_type": "code",
   "execution_count": 30,
   "id": "3ae095e7",
   "metadata": {},
   "outputs": [
    {
     "name": "stdout",
     "output_type": "stream",
     "text": [
      "model accuracy : 1.0\n"
     ]
    },
    {
     "name": "stderr",
     "output_type": "stream",
     "text": [
      "C:\\Users\\91811\\AppData\\Local\\Programs\\Python\\Python310\\lib\\site-packages\\sklearn\\linear_model\\_logistic.py:458: ConvergenceWarning: lbfgs failed to converge (status=1):\n",
      "STOP: TOTAL NO. of ITERATIONS REACHED LIMIT.\n",
      "\n",
      "Increase the number of iterations (max_iter) or scale the data as shown in:\n",
      "    https://scikit-learn.org/stable/modules/preprocessing.html\n",
      "Please also refer to the documentation for alternative solver options:\n",
      "    https://scikit-learn.org/stable/modules/linear_model.html#logistic-regression\n",
      "  n_iter_i = _check_optimize_result(\n"
     ]
    }
   ],
   "source": [
    "model_LR.fit(X_train,y_train)\n",
    "print('model accuracy :',model_LR.score(X_test,y_test))"
   ]
  },
  {
   "cell_type": "code",
   "execution_count": 31,
   "id": "438ad212",
   "metadata": {
    "scrolled": true
   },
   "outputs": [],
   "source": [
    "y_pred_prob = model_LR.predict(X_test) \n"
   ]
  },
  {
   "cell_type": "code",
   "execution_count": 32,
   "id": "b003b1a7",
   "metadata": {},
   "outputs": [],
   "source": [
    "# Create a confusion matrix\n",
    "from sklearn.metrics import confusion_matrix,classification_report\n",
    "from sklearn.preprocessing import StandardScaler, LabelEncoder\n",
    "cm = confusion_matrix(y_test, y_pred_prob)"
   ]
  },
  {
   "cell_type": "code",
   "execution_count": 34,
   "id": "2ce31fea",
   "metadata": {
    "scrolled": false
   },
   "outputs": [
    {
     "data": {
      "image/png": "[encoded data removed]",
      "text/plain": [
       "<Figure size 800x600 with 2 Axes>"
      ]
     },
     "metadata": {},
     "output_type": "display_data"
    },
    {
     "name": "stdout",
     "output_type": "stream",
     "text": [
      "                 precision    recall  f1-score   support\n",
      "\n",
      "    Iris-setosa       1.00      1.00      1.00        10\n",
      "Iris-versicolor       1.00      1.00      1.00        12\n",
      " Iris-virginica       1.00      1.00      1.00         8\n",
      "\n",
      "       accuracy                           1.00        30\n",
      "      macro avg       1.00      1.00      1.00        30\n",
      "   weighted avg       1.00      1.00      1.00        30\n",
      "\n"
     ]
    }
   ],
   "source": [
    "# Plot the heatmap\n",
    "plt.figure(figsize=(8, 6))\n",
    "sns.heatmap(cm, annot=True, fmt='d', cmap='Blues')\n",
    "plt.xlabel('Predicted')\n",
    "plt.ylabel('True')\n",
    "plt.title('Confusion Matrix Heatmap')\n",
    "plt.show()\n",
    "\n",
    "# Print classification report\n",
    "print(classification_report(y_test, y_pred_prob, target_names=le.classes_))"
   ]
  },
  {
   "cell_type": "code",
   "execution_count": null,
   "id": "22c66913",
   "metadata": {},
   "outputs": [],
   "source": []
  }
 ],
 "metadata": {
  "kernelspec": {
   "display_name": "Python 3 (ipykernel)",
   "language": "python",
   "name": "python3"
  },
  "language_info": {
   "codemirror_mode": {
    "name": "ipython",
    "version": 3
   },
   "file_extension": ".py",
   "mimetype": "text/x-python",
   "name": "python",
   "nbconvert_exporter": "python",
   "pygments_lexer": "ipython3",
   "version": "3.10.11"
  }
 },
 "nbformat": 4,
 "nbformat_minor": 5
}
